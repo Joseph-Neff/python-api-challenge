{
 "cells": [
  {
   "cell_type": "code",
   "execution_count": 1,
   "metadata": {},
   "outputs": [],
   "source": [
    "#fix plots\n",
    "#save .png\n",
    "#fix lines of regression"
   ]
  },
  {
   "cell_type": "code",
   "execution_count": 2,
   "metadata": {
    "scrolled": true
   },
   "outputs": [],
   "source": [
    "# Dependencies and Setup\n",
    "import matplotlib.pyplot as plt\n",
    "import pandas as pd\n",
    "import numpy as np\n",
    "import requests\n",
    "import time\n",
    "from scipy.stats import linregress\n",
    "\n",
    "# Import API key\n",
    "from api_keys import weather_api_key\n",
    "\n",
    "# Incorporated citipy to determine city based on latitude and longitude\n",
    "from citipy import citipy\n",
    "\n",
    "# Output File (CSV)\n",
    "output_data_file = \"output_data/cities.csv\"\n",
    "\n",
    "# Range of latitudes and longitudes\n",
    "lat_range = (-90, 90)\n",
    "lng_range = (-180, 180)\n"
   ]
  },
  {
   "cell_type": "markdown",
   "metadata": {},
   "source": [
    "# WeatherPy\n",
    "----\n",
    "\n",
    "#### Note\n",
    "* Instructions have been included for each segment. You do not have to follow them exactly, but they are included to help you think through the steps."
   ]
  },
  {
   "cell_type": "code",
   "execution_count": 3,
   "metadata": {},
   "outputs": [
    {
     "ename": "ImportError",
     "evalue": "cannot import name 'city' from 'citipy' (/Users/josephneff/opt/anaconda3/lib/python3.9/site-packages/citipy/__init__.py)",
     "output_type": "error",
     "traceback": [
      "\u001b[0;31m---------------------------------------------------------------------------\u001b[0m",
      "\u001b[0;31mImportError\u001b[0m                               Traceback (most recent call last)",
      "\u001b[0;32m/var/folders/tb/284z5t112fdcqbwthgkr8gx40000gp/T/ipykernel_42980/316141152.py\u001b[0m in \u001b[0;36m<module>\u001b[0;34m\u001b[0m\n\u001b[0;32m----> 1\u001b[0;31m \u001b[0;32mfrom\u001b[0m \u001b[0mcitipy\u001b[0m \u001b[0;32mimport\u001b[0m \u001b[0mcity\u001b[0m\u001b[0;34m\u001b[0m\u001b[0;34m\u001b[0m\u001b[0m\n\u001b[0m",
      "\u001b[0;31mImportError\u001b[0m: cannot import name 'city' from 'citipy' (/Users/josephneff/opt/anaconda3/lib/python3.9/site-packages/citipy/__init__.py)"
     ]
    }
   ],
   "source": [
    "from citipy import city"
   ]
  },
  {
   "cell_type": "markdown",
   "metadata": {},
   "source": [
    "## Generate Cities List"
   ]
  },
  {
   "cell_type": "code",
   "execution_count": 4,
   "metadata": {},
   "outputs": [
    {
     "data": {
      "text/plain": [
       "604"
      ]
     },
     "execution_count": 4,
     "metadata": {},
     "output_type": "execute_result"
    }
   ],
   "source": [
    "# List for holding lat_lngs and cities\n",
    "lat_lngs = []\n",
    "cities = []\n",
    "\n",
    "# Create a set of random lat and lng combinations\n",
    "lats = np.random.uniform(lat_range[0], lat_range[1], size=1500)\n",
    "lngs = np.random.uniform(lng_range[0], lng_range[1], size=1500)\n",
    "lat_lngs = zip(lats, lngs)\n",
    "\n",
    "# Identify nearest city for each lat, lng combination\n",
    "for lat_lng in lat_lngs:\n",
    "    city = citipy.nearest_city(lat_lng[0], lat_lng[1]).city_name\n",
    "    \n",
    "    # If the city is unique, then add it to a our cities list\n",
    "    if city not in cities:\n",
    "        cities.append(city)\n",
    "\n",
    "# Print the city count to confirm sufficient count\n",
    "len(cities)"
   ]
  },
  {
   "cell_type": "markdown",
   "metadata": {},
   "source": [
    "### Perform API Calls\n",
    "* Perform a weather check on each city using a series of successive API calls.\n",
    "* Include a print log of each city as it'sbeing processed (with the city number and city name).\n",
    "\n",
    "> **HINT:** The OpenWeatherMap API only allows 60 calls per minute under their free plan. Try using `time.sleep(60)` after each set of 50 cities to avoid API errors due to large calls."
   ]
  },
  {
   "cell_type": "code",
   "execution_count": null,
   "metadata": {
    "scrolled": true
   },
   "outputs": [
    {
     "name": "stdout",
     "output_type": "stream",
     "text": [
      "Processing number 1, which is illoqqortoormiut and has no information\n",
      "Processing number 2, which is atuona and has no information\n",
      "Processing number 3, which is korla and has no information\n",
      "Processing number 4, which is el dorado and has no information\n",
      "Processing number 5, which is busselton and has no information\n",
      "Processing number 6, which is vaini and has no information\n",
      "Processing number 7, which is lambarene and has no information\n",
      "Processing number 8, which is petropavlovsk-kamchatskiy and has no information\n",
      "Processing number 9, which is victor harbor and has no information\n",
      "Processing number 10, which is narsaq and has no information\n",
      "Processing number 11, which is jacareacanga and has no information\n",
      "Processing number 12, which is yellowknife and has no information\n",
      "Processing number 13, which is victoria and has no information\n",
      "Processing number 14, which is mataura and has no information\n",
      "Processing number 15, which is jamestown and has no information\n",
      "Processing number 16, which is palauig and has no information\n",
      "Processing number 17, which is tuktoyaktuk and has no information\n",
      "Processing number 18, which is ulladulla and has no information\n",
      "Processing number 19, which is barentsburg and has no information\n",
      "Processing number 20, which is ponta do sol and has no information\n",
      "Processing number 21, which is komsomolskiy and has no information\n",
      "Processing number 22, which is bonavista and has no information\n",
      "Processing number 23, which is avarua and has no information\n",
      "Processing number 24, which is erenhot and has no information\n",
      "Processing number 25, which is upernavik and has no information\n",
      "Processing number 26, which is puri and has no information\n",
      "Processing number 27, which is puerto ayora and has no information\n",
      "Processing number 28, which is hovd and has no information\n",
      "Processing number 29, which is omsukchan and has no information\n",
      "Processing number 30, which is alofi and has no information\n",
      "Processing number 31, which is balagansk and has no information\n",
      "Processing number 32, which is hasaki and has no information\n",
      "Processing number 33, which is nikolskoye and has no information\n",
      "Processing number 34, which is mvuma and has no information\n",
      "Processing number 35, which is sentyabrskiy and has no information\n",
      "Processing number 36, which is taolanaro and has no information\n",
      "Processing number 37, which is clyde river and has no information\n",
      "Processing number 38, which is katsuura and has no information\n",
      "Processing number 39, which is havelock and has no information\n",
      "Processing number 40, which is albany and has no information\n",
      "Processing number 41, which is kahului and has no information\n",
      "Processing number 42, which is hamilton and has no information\n",
      "Processing number 43, which is yanan and has no information\n",
      "Processing number 44, which is port elizabeth and has no information\n",
      "Processing number 45, which is tautira and has no information\n",
      "Processing number 46, which is arraial do cabo and has no information\n",
      "Processing number 47, which is tuatapere and has no information\n",
      "Processing number 48, which is vilyuysk and has no information\n",
      "Processing number 49, which is khonuu and has no information\n",
      "Processing number 50, which is konskie and has no information\n",
      "Processing number 51, which is bluff and has no information\n",
      "Processing number 52, which is caravelas and has no information\n",
      "Processing number 53, which is amderma and has no information\n",
      "Processing number 54, which is el alto and has no information\n",
      "Processing number 55, which is hermanus and has no information\n",
      "Processing number 56, which is sekoma and has no information\n",
      "Processing number 57, which is bredasdorp and has no information\n",
      "Processing number 58, which is grand river south east and has no information\n",
      "Processing number 59, which is tari and has no information\n",
      "Processing number 60, which is punta arenas and has no information\n",
      "Processing number 61, which is kapaa and has no information\n",
      "Processing number 62, which is khurba and has no information\n",
      "Processing number 63, which is alice springs and has no information\n",
      "Processing number 64, which is norman wells and has no information\n",
      "Processing number 65, which is butaritari and has no information\n",
      "Processing number 66, which is tarko-sale and has no information\n",
      "Processing number 67, which is ushuaia and has no information\n",
      "Processing number 68, which is qaanaaq and has no information\n",
      "Processing number 69, which is pangai and has no information\n",
      "Processing number 70, which is veraval and has no information\n",
      "Processing number 71, which is pinerolo and has no information\n",
      "Processing number 72, which is severo-kurilsk and has no information\n",
      "Processing number 73, which is hilo and has no information\n",
      "Processing number 74, which is tatawin and has no information\n",
      "Processing number 75, which is nagapattinam and has no information\n",
      "Processing number 76, which is ola and has no information\n",
      "Processing number 77, which is havre-saint-pierre and has no information\n",
      "Processing number 78, which is horta and has no information\n",
      "Processing number 79, which is lompoc and has no information\n",
      "Processing number 80, which is castro and has no information\n",
      "Processing number 81, which is hobart and has no information\n",
      "Processing number 82, which is port alfred and has no information\n",
      "Processing number 83, which is sarangani and has no information\n",
      "Processing number 84, which is alihe and has no information\n",
      "Processing number 85, which is east london and has no information\n",
      "Processing number 86, which is nenjiang and has no information\n",
      "Processing number 87, which is rikitea and has no information\n"
     ]
    }
   ],
   "source": [
    "city_test = cities\n",
    "url = \"http://api.openweathermap.org/data/2.5/weather?\"\n",
    "units = \"metric\"\n",
    "\n",
    "cities1 = []\n",
    "temp = []\n",
    "humidity = []\n",
    "clouds = []\n",
    "windspeed = []\n",
    "lats = []\n",
    "long = []\n",
    "\n",
    "for city in city_test:\n",
    "    query_url = f\"{url}appid={weather_api_key}&units={units}&q={city}\"\n",
    "    try:\n",
    "        url_city=(query_url).replace(\" \",\"+\")\n",
    "        response=requests.get(url_city).json()\n",
    "        cities1.append(response[\"name\"])\n",
    "        temp.append(response['main'][\"temp\"])\n",
    "        humidity.append(response['main'][\"humidity\"])\n",
    "        clouds.append(response[\"clouds\"][\"all\"])\n",
    "        windspeed.append(response['wind'][\"speed\"])\n",
    "        lats.append(response[\"coord\"][\"lat\"])\n",
    "        long.append(response[\"coord\"][\"long\"])\n",
    "        print(f'Processing number {(city_test.index(city)+1)}, which is {city}')\n",
    "    except:\n",
    "        print(f'Processing number {(city_test.index(city)+1)}, which is {city} and has no information')"
   ]
  },
  {
   "cell_type": "markdown",
   "metadata": {},
   "source": [
    "### Convert Raw Data to DataFrame\n",
    "* Export the city data into a .csv.\n",
    "* Display the DataFrame"
   ]
  },
  {
   "cell_type": "code",
   "execution_count": null,
   "metadata": {},
   "outputs": [],
   "source": [
    "cities_df = pd.DataFrame({\"City\": cities1,\n",
    "                        \"Temperature\": temp,\n",
    "                        \"Humidity\": humidity,\n",
    "                        \"Clouds\" : clouds,\n",
    "                        \"Windspeed\": windspeed,\n",
    "                        \"Latitude\": lats,\n",
    "                        \"Longitude\": long\n",
    "                         })\n",
    "cities_df.to_csv(\"CitiesDF.csv\", index=False)\n",
    "cities_df.head()"
   ]
  },
  {
   "cell_type": "code",
   "execution_count": null,
   "metadata": {},
   "outputs": [],
   "source": []
  },
  {
   "cell_type": "markdown",
   "metadata": {},
   "source": [
    "## Inspect the data and remove the cities where the humidity > 100%.\n",
    "----\n",
    "Skip this step if there are no cities that have humidity > 100%. "
   ]
  },
  {
   "cell_type": "code",
   "execution_count": null,
   "metadata": {},
   "outputs": [],
   "source": []
  },
  {
   "cell_type": "code",
   "execution_count": null,
   "metadata": {},
   "outputs": [],
   "source": [
    "#  Get the indices of cities that have humidity over 100%.\n",
    "over_hundred = cities_df[cities_df.Humidity > 100]\n",
    "over_hundred\n",
    "#no humidity over 100"
   ]
  },
  {
   "cell_type": "code",
   "execution_count": null,
   "metadata": {},
   "outputs": [],
   "source": [
    "# Make a new DataFrame equal to the city data to drop all humidity outliers by index.\n",
    "humidity_df = cities_df['Humidity']\n",
    "\n",
    "qs = humidity_df.quantile([.25,.5,.75])\n",
    "lower = qs[.25]\n",
    "upper = qs[.75]\n",
    "interquartile = upper-lower\n",
    "lowerbnd = lower - (1.5*interquartile)\n",
    "upperbnd = upper + (1.5*interquartile)\n",
    "\n",
    "clean_city_data = cities_df.drop(cities_df.index[(cities_df['Humidity'] < lowerbnd) | (cities_df['Humidity'] > upperbnd)])\n",
    "# Passing \"inplace=False\" will make a copy of the city_data DataFrame, which we call \"clean_city_data\".\n",
    "clean_city_data.count()\n",
    "cities_df.count()\n",
    "#12 outliers dropped"
   ]
  },
  {
   "cell_type": "markdown",
   "metadata": {},
   "source": [
    "## Plotting the Data\n",
    "* Use proper labeling of the plots using plot titles (including date of analysis) and axes labels.\n",
    "* Save the plotted figures as .pngs."
   ]
  },
  {
   "cell_type": "markdown",
   "metadata": {},
   "source": [
    "## Latitude vs. Temperature Plot"
   ]
  },
  {
   "cell_type": "code",
   "execution_count": null,
   "metadata": {
    "scrolled": true
   },
   "outputs": [],
   "source": [
    "x_values = clean_city_data.Latitude\n",
    "\n",
    "y_values = clean_city_data.Temperature\n",
    "\n",
    "plt.scatter(x_values, y_values)\n",
    "plt.xlabel('Latitude')\n",
    "plt.ylabel('Temperature')\n",
    "plt.title('City Latitude vs. Temperature (02/01/2022)')\n",
    "plt.grid()\n",
    "plt.show()\n",
    "#plt.savefig(\"../output_data/lattemp.png\")"
   ]
  },
  {
   "cell_type": "markdown",
   "metadata": {},
   "source": [
    "## Latitude vs. Humidity Plot"
   ]
  },
  {
   "cell_type": "code",
   "execution_count": null,
   "metadata": {},
   "outputs": [],
   "source": [
    "x_values = clean_city_data.Latitude\n",
    "\n",
    "y_values = clean_city_data.Humidity \n",
    "\n",
    "plt.scatter(x_values, y_values)\n",
    "plt.xlabel('Latitude')\n",
    "plt.ylabel('Humidity')\n",
    "plt.title('City Latitude vs. Humidity (02/01/2022)')\n",
    "plt.grid()\n",
    "plt.show()"
   ]
  },
  {
   "cell_type": "markdown",
   "metadata": {},
   "source": [
    "## Latitude vs. Cloudiness Plot"
   ]
  },
  {
   "cell_type": "code",
   "execution_count": null,
   "metadata": {},
   "outputs": [],
   "source": [
    "x_values = clean_city_data.Latitude\n",
    "\n",
    "y_values = clean_city_data.Clouds\n",
    "\n",
    "plt.scatter(x_values, y_values)\n",
    "plt.xlabel('Latitude')\n",
    "plt.ylabel('Cloudiness')\n",
    "plt.title('City Latitude vs. Cloudiness (02/01/2022)')\n",
    "plt.grid()\n",
    "plt.show()"
   ]
  },
  {
   "cell_type": "markdown",
   "metadata": {},
   "source": [
    "## Latitude vs. Wind Speed Plot"
   ]
  },
  {
   "cell_type": "code",
   "execution_count": null,
   "metadata": {},
   "outputs": [],
   "source": [
    "x_values = clean_city_data.Latitude\n",
    "\n",
    "y_values = clean_city_data.Windspeed\n",
    "\n",
    "plt.scatter(x_values, y_values)\n",
    "plt.xlabel('Latitude')\n",
    "plt.ylabel('Wind Speed')\n",
    "plt.title('City Latitude vs. Wind Speed (02/01/2022)')\n",
    "plt.grid()\n",
    "plt.show()"
   ]
  },
  {
   "cell_type": "markdown",
   "metadata": {},
   "source": [
    "## Linear Regression"
   ]
  },
  {
   "cell_type": "code",
   "execution_count": null,
   "metadata": {},
   "outputs": [],
   "source": [
    "(slope, intercept, rvalue, pvalue, stderr) = linregress(x_values, y_values)\n",
    "regress_values = x_values * slope + intercept"
   ]
  },
  {
   "cell_type": "markdown",
   "metadata": {},
   "source": [
    "####  Northern Hemisphere - Max Temp vs. Latitude Linear Regression"
   ]
  },
  {
   "cell_type": "code",
   "execution_count": null,
   "metadata": {},
   "outputs": [],
   "source": [
    "nhem = clean_city_data.drop(clean_city_data.index[clean_city_data['Latitude']<0])\n",
    "\n",
    "x_values = nhem.Temperature\n",
    "y_values = nhem.Latitude\n",
    "\n",
    "plt.scatter(x_values,y_values)\n",
    "plt.plot(x_values,regress_values,\"r-\")\n",
    "plt.xlabel('Maximum Temperature')\n",
    "plt.ylabel('Latitude')\n",
    "plt.title(\"Northern Hemisphere Maximum Temperature vs. Latitude Linear Regression (02/01/2022)\")\n",
    "print(rvalue)\n",
    "plt.grid()\n",
    "plt.show()"
   ]
  },
  {
   "cell_type": "markdown",
   "metadata": {},
   "source": [
    "####  Southern Hemisphere - Max Temp vs. Latitude Linear Regression"
   ]
  },
  {
   "cell_type": "code",
   "execution_count": null,
   "metadata": {},
   "outputs": [],
   "source": [
    "shem = clean_city_data.drop(clean_city_data.index[clean_city_data.Latitude>0])\n",
    "\n",
    "x_values = shem.Temperature\n",
    "y_values = shem.Latitude\n",
    "\n",
    "plt.scatter(x_values,y_values)\n",
    "plt.plot(x_values,regress_values,\"r-\")\n",
    "plt.xlabel('Maximum Temperature')\n",
    "plt.ylabel('Latitude')\n",
    "plt.title(\"Southern Hemisphere Maximum Temperature vs. Latitude Linear Regression (02/01/2022)\")\n",
    "print(rvalue)\n",
    "plt.grid()\n",
    "plt.show()\n"
   ]
  },
  {
   "cell_type": "markdown",
   "metadata": {},
   "source": [
    "####  Northern Hemisphere - Humidity (%) vs. Latitude Linear Regression"
   ]
  },
  {
   "cell_type": "code",
   "execution_count": null,
   "metadata": {},
   "outputs": [],
   "source": [
    "x_values = nhem.Humidity \n",
    "y_values = nhem.Latitude\n",
    "\n",
    "plt.scatter(x_values,y_values)\n",
    "plt.plot(x_values,regress_values,\"r-\")\n",
    "plt.xlabel('Humidity')\n",
    "plt.ylabel('Latitude')\n",
    "plt.title(\"Northern Hemisphere Humdity vs. Latitude Linear Regression (02/01/2022)\")\n",
    "print(rvalue)\n",
    "plt.grid()\n",
    "plt.show()"
   ]
  },
  {
   "cell_type": "markdown",
   "metadata": {},
   "source": [
    "####  Southern Hemisphere - Humidity (%) vs. Latitude Linear Regression"
   ]
  },
  {
   "cell_type": "code",
   "execution_count": null,
   "metadata": {},
   "outputs": [],
   "source": [
    "x_values = shem.Humidity \n",
    "y_values = shem.Latitude\n",
    "\n",
    "plt.scatter(x_values,y_values)\n",
    "plt.plot(x_values,regress_values,\"r-\")\n",
    "plt.xlabel('Humidity')\n",
    "plt.ylabel('Latitude')\n",
    "plt.title(\"Southern Hemisphere Humdity vs. Latitude Linear Regression (02/01/2022)\")\n",
    "print(rvalue)\n",
    "plt.grid()\n",
    "plt.show()"
   ]
  },
  {
   "cell_type": "markdown",
   "metadata": {},
   "source": [
    "####  Northern Hemisphere - Cloudiness (%) vs. Latitude Linear Regression"
   ]
  },
  {
   "cell_type": "code",
   "execution_count": null,
   "metadata": {},
   "outputs": [],
   "source": [
    "x_values = nhem.Clouds \n",
    "y_values = nhem.Latitude\n",
    "\n",
    "plt.scatter(x_values,y_values)\n",
    "plt.plot(x_values,regress_values,\"r-\")\n",
    "plt.xlabel('Cloudiness')\n",
    "plt.ylabel('Latitude')\n",
    "plt.title(\"Northern Hemisphere Cloudiness vs. Latitude Linear Regression (02/01/2022)\")\n",
    "print(rvalue)\n",
    "plt.grid()\n",
    "plt.show()"
   ]
  },
  {
   "cell_type": "markdown",
   "metadata": {},
   "source": [
    "####  Southern Hemisphere - Cloudiness (%) vs. Latitude Linear Regression"
   ]
  },
  {
   "cell_type": "code",
   "execution_count": null,
   "metadata": {},
   "outputs": [],
   "source": [
    "x_values = shem.Clouds \n",
    "y_values = shem.Latitude\n",
    "\n",
    "plt.scatter(x_values,y_values)\n",
    "plt.plot(x_values,regress_values,\"r-\")\n",
    "plt.xlabel('Cloudiness')\n",
    "plt.ylabel('Latitude')\n",
    "plt.title(\"Southern Hemisphere Cloudiness vs. Latitude Linear Regression (02/01/2022)\")\n",
    "print(rvalue)\n",
    "plt.grid()\n",
    "plt.show()"
   ]
  },
  {
   "cell_type": "markdown",
   "metadata": {},
   "source": [
    "####  Northern Hemisphere - Wind Speed (mph) vs. Latitude Linear Regression"
   ]
  },
  {
   "cell_type": "code",
   "execution_count": null,
   "metadata": {},
   "outputs": [],
   "source": [
    "x_values = nhem.Windspeed \n",
    "y_values = nhem.Latitude\n",
    "\n",
    "plt.scatter(x_values,y_values)\n",
    "plt.plot(x_values,regress_values,\"r-\")\n",
    "plt.xlabel('Wind Speed')\n",
    "plt.ylabel('Latitude')\n",
    "plt.title(\"Northern Hemisphere Wind Speed vs. Latitude Linear Regression (02/01/2022)\")\n",
    "print(rvalue)\n",
    "plt.grid()\n",
    "plt.show()"
   ]
  },
  {
   "cell_type": "markdown",
   "metadata": {},
   "source": [
    "####  Southern Hemisphere - Wind Speed (mph) vs. Latitude Linear Regression"
   ]
  },
  {
   "cell_type": "code",
   "execution_count": null,
   "metadata": {},
   "outputs": [],
   "source": [
    "x_values = shem.Windspeed \n",
    "y_values = shem.Latitude\n",
    "\n",
    "plt.scatter(x_values,y_values)\n",
    "plt.plot(x_values,regress_values,\"r-\")\n",
    "plt.xlabel('Wind Speed')\n",
    "plt.ylabel('Latitude')\n",
    "plt.title(\"Southern Hemisphere Wind Speed vs. Latitude Linear Regression (02/01/2022)\")\n",
    "print(rvalue)\n",
    "plt.grid()\n",
    "plt.show()"
   ]
  },
  {
   "cell_type": "code",
   "execution_count": null,
   "metadata": {},
   "outputs": [],
   "source": []
  }
 ],
 "metadata": {
  "anaconda-cloud": {},
  "kernel_info": {
   "name": "python3"
  },
  "kernelspec": {
   "display_name": "Python 3 (ipykernel)",
   "language": "python",
   "name": "python3"
  },
  "language_info": {
   "codemirror_mode": {
    "name": "ipython",
    "version": 3
   },
   "file_extension": ".py",
   "mimetype": "text/x-python",
   "name": "python",
   "nbconvert_exporter": "python",
   "pygments_lexer": "ipython3",
   "version": "3.9.7"
  },
  "latex_envs": {
   "LaTeX_envs_menu_present": true,
   "autoclose": false,
   "autocomplete": true,
   "bibliofile": "biblio.bib",
   "cite_by": "apalike",
   "current_citInitial": 1,
   "eqLabelWithNumbers": true,
   "eqNumInitial": 1,
   "hotkeys": {
    "equation": "Ctrl-E",
    "itemize": "Ctrl-I"
   },
   "labels_anchors": false,
   "latex_user_defs": false,
   "report_style_numbering": false,
   "user_envs_cfg": false
  },
  "nteract": {
   "version": "0.12.3"
  }
 },
 "nbformat": 4,
 "nbformat_minor": 2
}
