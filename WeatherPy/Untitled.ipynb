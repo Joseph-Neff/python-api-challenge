{
 "cells": [
  {
   "cell_type": "code",
   "execution_count": 2,
   "id": "429d5725",
   "metadata": {},
   "outputs": [
    {
     "name": "stdout",
     "output_type": "stream",
     "text": [
      "Collecting citipy\n",
      "  Downloading citipy-0.0.5.tar.gz (557 kB)\n",
      "\u001b[K     |████████████████████████████████| 557 kB 4.4 MB/s eta 0:00:01\n",
      "\u001b[?25hCollecting kdtree>=0.12\n",
      "  Downloading kdtree-0.16-py2.py3-none-any.whl (7.7 kB)\n",
      "Building wheels for collected packages: citipy\n",
      "  Building wheel for citipy (setup.py) ... \u001b[?25ldone\n",
      "\u001b[?25h  Created wheel for citipy: filename=citipy-0.0.5-py3-none-any.whl size=559700 sha256=8ab68d2c5c7d422a1329a1b479ecdb9e85317775dd211c73d901fe324cfb64d9\n",
      "  Stored in directory: /Users/josephneff/Library/Caches/pip/wheels/d9/dd/68/8cc0be16282b0fcae5acb7280b47d31952f203c401923a8c1e\n",
      "Successfully built citipy\n",
      "Installing collected packages: kdtree, citipy\n",
      "Successfully installed citipy-0.0.5 kdtree-0.16\n",
      "Note: you may need to restart the kernel to use updated packages.\n"
     ]
    }
   ],
   "source": [
    "pip install citipy"
   ]
  },
  {
   "cell_type": "code",
   "execution_count": null,
   "id": "3aa0fc51",
   "metadata": {},
   "outputs": [],
   "source": []
  }
 ],
 "metadata": {
  "kernelspec": {
   "display_name": "Python 3 (ipykernel)",
   "language": "python",
   "name": "python3"
  },
  "language_info": {
   "codemirror_mode": {
    "name": "ipython",
    "version": 3
   },
   "file_extension": ".py",
   "mimetype": "text/x-python",
   "name": "python",
   "nbconvert_exporter": "python",
   "pygments_lexer": "ipython3",
   "version": "3.9.7"
  }
 },
 "nbformat": 4,
 "nbformat_minor": 5
}
